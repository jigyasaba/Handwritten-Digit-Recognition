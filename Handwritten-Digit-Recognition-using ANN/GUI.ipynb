{
 "cells": [
  {
   "cell_type": "code",
   "execution_count": 8,
   "id": "ce19708d-f209-42ad-b6fb-d7d0b849d215",
   "metadata": {},
   "outputs": [],
   "source": [
    "import tkinter as tk\n",
    "from tkinter import *\n",
    "from tkinter import messagebox\n",
    "from PIL import Image,ImageTk,ImageDraw\n",
    "import numpy as np\n",
    "import cv2"
   ]
  },
  {
   "cell_type": "code",
   "execution_count": 10,
   "id": "1d40ae93-a84c-44bd-8ccb-4b20fad84ffd",
   "metadata": {},
   "outputs": [
    {
     "name": "stdout",
     "output_type": "stream",
     "text": [
      "1/1 [==============================] - 0s 53ms/step\n",
      "1/1 [==============================] - 0s 35ms/step\n",
      "1/1 [==============================] - 0s 29ms/step\n",
      "1/1 [==============================] - 0s 25ms/step\n"
     ]
    }
   ],
   "source": [
    "from tensorflow.keras import Sequential\n",
    "from tensorflow.keras.layers import Dense,Flatten,Dropout\n",
    "dropout=0.45\n",
    "model=Sequential()\n",
    "model.add(Flatten(input_shape=(28,28)))#specifying the input_shape as parameter\n",
    "model.add(Dropout(dropout))\n",
    "model.add(Dense(128,activation='relu'))#Output of flatten layer passed to dense which consists of 128 nodes\n",
    "model.add(Dense(32,activation='relu'))\n",
    "#Always remember when you have more than one node at the output layer we will use the activation function softmax for classification\n",
    "model.add(Dense(10,activation='softmax'))\n",
    "model.compile(loss='sparse_categorical_crossentropy',optimizer='Adam',metrics=['accuracy'])\n",
    "model.load_weights('MNIST.h5')#Loading the trained neural network\n",
    "#Remember the model has already gained the knowledge ,it has already been trained\n",
    "def event_function(event):\n",
    " #geeting the coordinates where the mouse is clicked\n",
    " x=event.x\n",
    " y=event.y\n",
    " x1=x-30\n",
    " y1=y-30\n",
    " x2=x+30\n",
    " y2=y+30\n",
    " canvas.create_oval((x1,y1,x2,y2),fill='black')\n",
    " img_draw.ellipse((x1,y1,x2,y2),fill='white')#image does not support ellipse\n",
    "def save():\n",
    "    global count\n",
    "    img_array=np.array(img)\n",
    "    img_array=cv2.resize(img_array,(28,28))\n",
    "    count=count+1\n",
    "    cv2.imwrite(str(count)+'.jpg',img_array)\n",
    "def clear():\n",
    "    global img,img_draw\n",
    "    canvas.delete('all')\n",
    "    #reinitializing the objects\n",
    "    img=Image.new('RGB',(500,450),(0,0,0))\n",
    "    img_draw=ImageDraw.Draw(img)\n",
    "    label_status.config(text='PREDICTED DIGIT :NONE')\n",
    "def predict():\n",
    "    #we have a 500X500 image\n",
    "    img_array=np.array(img)\n",
    "    img_array=cv2.cvtColor(img_array,cv2.COLOR_BGR2GRAY)\n",
    "    img_array=cv2.resize(img_array,(28,28))#image array resized to 28X28\n",
    "    img_array=img_array/255.0#Normalizing the image\n",
    "    img_array=img_array.reshape(1,28,28)\n",
    "    result=model.predict(img_array)\n",
    "    #remember we will get a numpy array of probabilistic values we have to select the maximum value\n",
    "    label=np.argmax(result,axis=1)\n",
    "    #updating the label status\n",
    "    label_status.config(text=\"PREDICTED DIGIT :\"+str(label))\n",
    "count=0;\n",
    "#To create the main window\n",
    "win=tk.Tk()\n",
    "win.title(\"GUI\")\n",
    "win.resizable(0,0)\n",
    "win.geometry(\"500x500\")\n",
    "load1=Image.open(\"IMG.png\")\n",
    "photo1=ImageTk.PhotoImage(load1)\n",
    "header=tk.Button(win,image=photo1)\n",
    "header.place(x=0,y=0)\n",
    "canvas=tk.Canvas(win,width=500,height=450,bg='ivory')\n",
    "canvas.place(x=0,y=80)\n",
    "save=tk.Button(win,text=\"SAVE\",bg='pink',font='Helvetica 15 bold',command=save)\n",
    "save.place(x=10,y=400)\n",
    "predict=tk.Button(win,text=\"PREDICT\",bg='pink',font='Helvetica 15 bold',command=predict)\n",
    "predict.place(x=100,y=400)\n",
    "clear=tk.Button(win,text=\"CLEAR\",bg='pink',font='Helvetica 15 bold',command=clear)#clear the canvas as well as the image object\n",
    "clear.place(x=230,y=400)\n",
    "exit=tk.Button(win,text=\"EXIT\",bg='red',font='Helvetica 15 bold',command=win.destroy)\n",
    "exit.place(x=435,y=400)\n",
    "label_status=tk.Label(win,text='PREDICTED DIGIT: NONE',bg='grey',font='Helvetica 20 bold')\n",
    "label_status.place(x=0,y=460)\n",
    "canvas.bind('<B1-Motion>',event_function)\n",
    "#image is a function from PIL(pillow) library\n",
    "img=Image.new('RGB',(500,450),(0,0,0))#image(Testing data) similar to that of training data black bg and white fg\n",
    "img_draw=ImageDraw.Draw(img)#real image is image the object which we are going to use to draw the image\n",
    "win.mainloop()"
   ]
  },
  {
   "cell_type": "markdown",
   "id": "89981c4a-6868-42ea-bb76-3527c9cb7f05",
   "metadata": {},
   "source": [
    "Remember image is a numpy array so simutaneously the digit will be drawn in another space and that will be converted to numpy array"
   ]
  },
  {
   "cell_type": "code",
   "execution_count": null,
   "id": "e1e7f665-8ee3-4932-9e6c-b0d75c073c37",
   "metadata": {},
   "outputs": [],
   "source": []
  },
  {
   "cell_type": "code",
   "execution_count": null,
   "id": "55b4b680-290a-48a6-8ec2-ae227bdb2ab9",
   "metadata": {},
   "outputs": [],
   "source": []
  }
 ],
 "metadata": {
  "kernelspec": {
   "display_name": "Python 3 (ipykernel)",
   "language": "python",
   "name": "python3"
  },
  "language_info": {
   "codemirror_mode": {
    "name": "ipython",
    "version": 3
   },
   "file_extension": ".py",
   "mimetype": "text/x-python",
   "name": "python",
   "nbconvert_exporter": "python",
   "pygments_lexer": "ipython3",
   "version": "3.9.13"
  }
 },
 "nbformat": 4,
 "nbformat_minor": 5
}
