{
 "cells": [
  {
   "cell_type": "code",
   "execution_count": 1,
   "id": "ce19708d-f209-42ad-b6fb-d7d0b849d215",
   "metadata": {},
   "outputs": [],
   "source": [
    "import tkinter as tk\n",
    "from tkinter import *\n",
    "from tkinter import messagebox\n",
    "from PIL import Image,ImageTk"
   ]
  },
  {
   "cell_type": "code",
   "execution_count": 2,
   "id": "1d40ae93-a84c-44bd-8ccb-4b20fad84ffd",
   "metadata": {},
   "outputs": [],
   "source": [
    "#To create the main window\n",
    "win=tk.Tk()\n",
    "win.title(\"GUI\")\n",
    "win.resizable(0,0)\n",
    "win.geometry(\"500x500\")\n",
    "load1=Image.open(\"IMG.png\")\n",
    "photo1=ImageTk.PhotoImage(load1)\n",
    "header=tk.Button(win,image=photo1)\n",
    "header.place(x=0,y=0)\n",
    "canvas=tk.Canvas(win,width=500,height=450,bg='ivory')\n",
    "canvas.place(x=0,y=80)\n",
    "save=tk.Button(win,text=\"SAVE\",bg='pink',font='Helvetica 20 bold')\n",
    "save.place(x=10,y=90)\n",
    "save=tk.Button(win,text=\"SAVE\",bg='pink',font='Helvetica 20 bold')\n",
    "save.place()\n",
    "win.mainloop()"
   ]
  },
  {
   "cell_type": "code",
   "execution_count": null,
   "id": "3b759628-78b8-416b-86f7-79594a1c99c8",
   "metadata": {},
   "outputs": [],
   "source": []
  },
  {
   "cell_type": "code",
   "execution_count": null,
   "id": "e1e7f665-8ee3-4932-9e6c-b0d75c073c37",
   "metadata": {},
   "outputs": [],
   "source": []
  },
  {
   "cell_type": "code",
   "execution_count": null,
   "id": "55b4b680-290a-48a6-8ec2-ae227bdb2ab9",
   "metadata": {},
   "outputs": [],
   "source": []
  }
 ],
 "metadata": {
  "kernelspec": {
   "display_name": "Python 3 (ipykernel)",
   "language": "python",
   "name": "python3"
  },
  "language_info": {
   "codemirror_mode": {
    "name": "ipython",
    "version": 3
   },
   "file_extension": ".py",
   "mimetype": "text/x-python",
   "name": "python",
   "nbconvert_exporter": "python",
   "pygments_lexer": "ipython3",
   "version": "3.9.13"
  }
 },
 "nbformat": 4,
 "nbformat_minor": 5
}
